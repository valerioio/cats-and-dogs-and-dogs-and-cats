{
 "cells": [
  {
   "cell_type": "code",
   "execution_count": 5,
   "metadata": {},
   "outputs": [],
   "source": [
    "import requests\n",
    "import os\n",
    "from dotenv import load_dotenv\n",
    "\n",
    "load_dotenv()\n",
    "\n",
    "auth_url = \"https://api.petfinder.com/v2/oauth2/token\"\n",
    "\n",
    "data = {\n",
    "    \"grant_type\": \"client_credentials\",\n",
    "    \"client_id\": os.getenv(\"API_KEY\"),\n",
    "    \"client_secret\": os.getenv(\"API_SECRET\")\n",
    "}\n",
    "\n",
    "response = requests.post(auth_url, data=data)\n",
    "\n",
    "if response.status_code != 200:\n",
    "    raise RuntimeError(f\"Error {response.status_code}: {response.text}\")\n",
    "\n",
    "bearer = response.json()"
   ]
  },
  {
   "cell_type": "code",
   "execution_count": null,
   "metadata": {},
   "outputs": [],
   "source": [
    "def get_photos(type, minimum_amount=1000):\n",
    "    url = \"https://api.petfinder.com/v2/animals\"\n",
    "    headers = {\"Authorization\": f\"Bearer {bearer['access_token']}\"}\n",
    "    page = 1\n",
    "    photos = []\n",
    "\n",
    "    while len(photos) < minimum_amount:\n",
    "        response = requests.get(\n",
    "            url, headers=headers, params={\"type\": type, \"limit\": 100, \"page\": page}\n",
    "        )\n",
    "        page += 1\n",
    "\n",
    "        if response.status_code != 200:\n",
    "            raise RuntimeError(f\"Error {response.status_code}: {response.text}\")\n",
    "\n",
    "        data = response.json()\n",
    "        for animal in data[\"animals\"]:\n",
    "            for photo in animal[\"photos\"]:\n",
    "                photos.append(photo[\"medium\"])\n",
    "\n",
    "    return photos"
   ]
  },
  {
   "cell_type": "code",
   "execution_count": null,
   "metadata": {},
   "outputs": [],
   "source": [
    "def download_photos(type):\n",
    "    folder_path = os.path.join(os.getcwd(), \"data\", f\"{type}s\")\n",
    "    os.makedirs(folder_path, exist_ok=True)\n",
    "\n",
    "    photos = get_photos(type)\n",
    "\n",
    "    for i, url in enumerate(photos):\n",
    "        try:\n",
    "            response = requests.get(url, timeout=10)\n",
    "            response.raise_for_status()\n",
    "\n",
    "            file_name = f\"{i}.jpeg\"\n",
    "            file_path = os.path.join(folder_path, file_name)\n",
    "\n",
    "            with open(file_path, \"wb\") as f:\n",
    "                f.write(response.content)\n",
    "\n",
    "        except Exception as e:\n",
    "            print(f\"Failed to download {url}: {e}\")"
   ]
  },
  {
   "cell_type": "code",
   "execution_count": null,
   "metadata": {},
   "outputs": [],
   "source": [
    "download_photos(\"dog\")\n",
    "download_photos(\"cat\")"
   ]
  },
  {
   "cell_type": "markdown",
   "metadata": {},
   "source": [
    "After running this script, manually create a train, validation and test folder, then move part of the photos in each"
   ]
  }
 ],
 "metadata": {
  "kernelspec": {
   "display_name": "Python 3",
   "language": "python",
   "name": "python3"
  },
  "language_info": {
   "codemirror_mode": {
    "name": "ipython",
    "version": 3
   },
   "file_extension": ".py",
   "mimetype": "text/x-python",
   "name": "python",
   "nbconvert_exporter": "python",
   "pygments_lexer": "ipython3",
   "version": "3.10.0"
  }
 },
 "nbformat": 4,
 "nbformat_minor": 2
}
